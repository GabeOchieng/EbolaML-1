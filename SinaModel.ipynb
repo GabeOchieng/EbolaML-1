{
 "cells": [
  {
   "cell_type": "code",
   "execution_count": 1216,
   "metadata": {
    "collapsed": false
   },
   "outputs": [],
   "source": [
    "%load_ext rpy2.ipython\n",
    "import csv\n",
    "import numpy as np\n",
    "import pandas as pd\n",
    "import matplotlib.pyplot as plt\n",
    "from patsy import dmatrices\n",
    "from sklearn.linear_model import (LogisticRegression, LinearRegression, RidgeClassifier, Lasso, RandomizedLasso)\n",
    "from sklearn import svm\n",
    "from sklearn.svm import LinearSVC\n",
    "from sklearn import metrics\n",
    "from sklearn.model_selection import cross_val_score,ShuffleSplit,GridSearchCV\n",
    "from sklearn.metrics import roc_auc_score,roc_curve, auc\n",
    "from sklearn.feature_selection import RFE\n",
    "from sklearn.ensemble import ExtraTreesClassifier\n",
    "from sklearn.preprocessing import StandardScaler\n",
    "from tpot import TPOTClassifier\n"
   ]
  },
  {
   "cell_type": "code",
   "execution_count": 1217,
   "metadata": {
    "collapsed": false
   },
   "outputs": [
    {
     "name": "stdout",
     "output_type": "stream",
     "text": [
      "shape before:  (575, 67)\n"
     ]
    }
   ],
   "source": [
    "# load dataset and choose 'model'\n",
    "path_dataset = \"mdl_data.csv\"\n",
    "data=pd.read_csv(path_dataset)\n",
    "\n",
    "choice=1\n",
    "print('shape before: ',data.shape)\n",
    "if (choice == 1):   # triage model\n",
    "    data=data.iloc[:,0:41]   \n",
    "elif (choice == 2): #after model\n",
    "    data=data.iloc[:,list(range(0, 11))+list(range(41, 67))]\n",
    "else: \n",
    "    #data = data[['death', 'evd_ct', 'age', 'temp_triage', 'headache_triage', 'hemorrhage_triage','diarrhea_triage','jaundice_triage','vomiting_triage','abdomnial_triage','asthenia_triage']]\n",
    "    data = data[['death', 'evd_ct', 'disorientation_triage', 'jaundice_triage', 'headache_triage', 'days_admitted']]\n",
    "\n",
    "\n"
   ]
  },
  {
   "cell_type": "code",
   "execution_count": 1218,
   "metadata": {
    "collapsed": false
   },
   "outputs": [
    {
     "name": "stdout",
     "output_type": "stream",
     "text": [
      "(575, 41)\n"
     ]
    }
   ],
   "source": [
    "#small tests\n",
    "print(data.shape)\n",
    "\n"
   ]
  },
  {
   "cell_type": "markdown",
   "metadata": {},
   "source": [
    "# Helper function"
   ]
  },
  {
   "cell_type": "code",
   "execution_count": 1219,
   "metadata": {
    "collapsed": false
   },
   "outputs": [],
   "source": [
    "\n",
    "def repeatedCV (model, dataFeatures,dataOutcome):\n",
    "    maxloop = 100\n",
    "    splitsnb= 10\n",
    "    testproportion =0.25\n",
    "    results= []\n",
    "    for k in range(maxloop):\n",
    "        lecv = ShuffleSplit(n_splits=splitsnb, test_size= testproportion,random_state=1)\n",
    "        results.append(cross_val_score(model, dataFeatures, dataOutcome, scoring='accuracy', cv=lecv))\n",
    "    return results"
   ]
  },
  {
   "cell_type": "markdown",
   "metadata": {},
   "source": [
    "#  Preprocessing and feature engineering\n"
   ]
  },
  {
   "cell_type": "code",
   "execution_count": 1220,
   "metadata": {
    "collapsed": false
   },
   "outputs": [
    {
     "name": "stdout",
     "output_type": "stream",
     "text": [
      "shape after:  (144, 41)\n",
      "Missing values: \n",
      " False (array([], dtype=int64), array([], dtype=int64))\n",
      "1    64\n",
      "0    44\n",
      "Name: death, dtype: int64\n"
     ]
    }
   ],
   "source": [
    "#Preprocessing\n",
    "#trainfile= 'trainSinaModel.csv'\n",
    "#testfile= 'testSinaModel.csv'\n",
    "\n",
    "# we remove all patients with missing evd_ct. \n",
    "#2 possible causes: {1. evd- (No ebola->no death prediction) (417 cases) 2. Unknown (14 cases)} \n",
    "data=data[np.isfinite(data['evd_ct'])] \n",
    "\n",
    "\n",
    "\n",
    "#data=data.dropna() # Dropping from 575 to 118!!\n",
    "data=data.fillna(round(data.mean())) #Should round to not loose binary format of columns!\n",
    "print('shape after: ', data.shape)\n",
    "\n",
    "ytrue=data['death']\n",
    "if choice==3:\n",
    "    X=data.drop(['death','evd'],axis=1) #'study_id' could also be added to be droped\n",
    "else:\n",
    "    X=data.drop(['death','study_id','evd'],axis=1) #'study_id' could also be added to be droped\n",
    "\n",
    "\n",
    "\n",
    "       \n",
    " #the only columns wirh missing info: ,'malaria','referral_time',evd_ct' (removed higher),'quarantine'(removed by first two)\n",
    "print('Missing values: \\n' ,pd.isnull(X).values.any(), np.where(pd.isnull(X)))\n",
    "\n",
    "\n",
    "headers = X.dtypes.index\n",
    "\n",
    "#scaler = StandardScaler()\n",
    "#X= scaler.fit_transform(X)\n",
    "\n",
    "#Creating two separate files for training and validation. CV will only be done on training set\n",
    "# Validation set will be only used for testing: real unseen data\n",
    "# we prefer more training simples with y=1 so we don't use stratify=ytrue because it decreases it\n",
    "X_train, X_test, y_train, y_test = train_test_split(X, ytrue, test_size=0.25, random_state=10)\n",
    "print(y_train.value_counts()) # ytrue: 86 nondeath (60%) and 58 deaths\n",
    "#pd.concat([y_train, X_train], axis=1).to_csv(path_or_buf= trainfile)\n",
    "#pd.concat([y_test, X_test], axis=1).to_csv(path_or_buf= testfile)\n",
    "\n"
   ]
  },
  {
   "cell_type": "markdown",
   "metadata": {},
   "source": [
    "# TPOT"
   ]
  },
  {
   "cell_type": "code",
   "execution_count": 1221,
   "metadata": {
    "collapsed": false
   },
   "outputs": [
    {
     "name": "stdout",
     "output_type": "stream",
     "text": [
      "Version 0.7.1 of tpot is outdated. Version 0.7.2 was released 17 hours ago.\n",
      "Warning: xgboost.XGBClassifier is not available and will not be used by TPOT.\n",
      "sss: 0.883116883117\n"
     ]
    }
   ],
   "source": [
    "pipeline_optimizer = TPOTClassifier(generations=5, population_size=20, cv=5,\n",
    "                                    random_state=1, verbosity=2)\n",
    "#pipeline_optimizer.fit(X_train, y_train)\n",
    "#print(pipeline_optimizer.score(X_test, y_test))\n",
    "#pipeline_optimizer.export('tpot_exported_pipeline.py')\n",
    "\n",
    "\n",
    "#tpotmodel = LogisticRegression(C=0.1, dual=False, penalty=\"l2\")\n",
    "tpotmodel= LinearSVC(C=0.01)\n",
    "tpotmodel.fit(X_train, y_train)\n",
    "results = tpotmodel.predict(X_test)\n",
    "print('sss:',roc_auc_score(y_test, results))"
   ]
  },
  {
   "cell_type": "markdown",
   "metadata": {},
   "source": [
    "# Logistic Regression"
   ]
  },
  {
   "cell_type": "code",
   "execution_count": 1227,
   "metadata": {
    "collapsed": false
   },
   "outputs": [
    {
     "name": "stdout",
     "output_type": "stream",
     "text": [
      "Accuracy: 0.85 (+/- 0.15)\n",
      "\n",
      "Single fold:\n",
      "  \n",
      "best parameters from grid search {'penalty': 'l2', 'C': 0.35}  , best score: 0.93602292769\n",
      "simple LR :  0.918831168831 auc:  0.86038961039\n",
      "RMSE:  0.37267799625\n",
      "[[12  2]\n",
      " [ 3 19]]\n",
      "             precision    recall  f1-score   support\n",
      "\n",
      "          0       0.80      0.86      0.83        14\n",
      "          1       0.90      0.86      0.88        22\n",
      "\n",
      "avg / total       0.86      0.86      0.86        36\n",
      "\n",
      "Matthew Correlation coefficient 0.71272556889\n"
     ]
    }
   ],
   "source": [
    "# instantiate a logistic regression model, and fit with X and y\n",
    "# we prefer have false positives than false negatives. So we want high recall for death=1\n",
    "#model = LogisticRegression(class_weight={0:.25, 1:.75})\n",
    "risk_threshold=0.50\n",
    "model = LogisticRegression()\n",
    "#model = LogisticRegression(class_weight=\"balanced\") #replicating the smaller class until you have as many samples as in the larger one, but in an implicit way.\n",
    "scores = cross_val_score(model, X, ytrue, scoring='accuracy', cv=10) #scoring='roc_auc'    \n",
    "print(\"Accuracy: %0.2f (+/- %0.2f)\" % (scores.mean(), scores.std() * 2))\n",
    "\n",
    "#Repeated K fold with random shuffling\n",
    "#results= repeatedCV(model, X_train,y_train)\n",
    "#print('repeated K folds- mean: ',np.mean(results),' +/- ',np.std(results) *2)\n",
    "# check the accuracy on the training set\n",
    "\n",
    "\n",
    "#Single fold\n",
    "print('\\nSingle fold:\\n  ')\n",
    "#model.fit(X_train, y_train)\n",
    "\n",
    "param_grid = { \n",
    "    'C': [0.001, 0.01, 0.1,0.3,0.35,0.4,0.45, 0.5, 0.55, 0.6, 0.7, 1, 10, 100, 1000],\n",
    "    'penalty' :['l1','l2'],\n",
    "    #'class_weight': [{0:.25, 1:.75}, {0:.5, 1:.5}, {0:.3, 1:.7}, {0:.4, 1:.6}   ]\n",
    "}\n",
    "\n",
    "CV_LR = GridSearchCV(estimator=model,scoring='roc_auc', param_grid=param_grid, cv= 10)\n",
    "CV_LR.fit(X_train, y_train)\n",
    "print('best parameters from grid search' ,CV_LR.best_params_, ' , best score:', CV_LR.best_score_)\n",
    "probs=  CV_LR.predict_proba(X_test)\n",
    "y_pred = [int(risk_threshold < p[1]) for p in probs]\n",
    "\n",
    "\n",
    "#print(probs)\n",
    "\n",
    "\n",
    "\n",
    "\n",
    "print('simple LR : ',CV_LR.score(X_test, y_test),'auc: ',roc_auc_score(y_test, y_pred))\n",
    "print('RMSE: ', np.sqrt(metrics.mean_squared_error(y_test, y_pred)))\n",
    "print(confusion_matrix(y_test,y_pred))\n",
    "print(classification_report(y_test,y_pred))\n",
    "print('Matthew Correlation coefficient',sklearn.metrics.matthews_corrcoef(y_test,y_pred))\n"
   ]
  },
  {
   "cell_type": "code",
   "execution_count": 1244,
   "metadata": {
    "collapsed": false
   },
   "outputs": [
    {
     "name": "stdout",
     "output_type": "stream",
     "text": [
      "(36,)\n"
     ]
    },
    {
     "data": {
      "image/png": "[encoded data removed]",
      "text/plain": [
       "<matplotlib.figure.Figure at 0x114bee438>"
      ]
     },
     "metadata": {},
     "output_type": "display_data"
    }
   ],
   "source": [
    "print(probs[:,0].shape)\n",
    "fpr,tpr, _ = roc_curve(y_test,probs[:,1])\n",
    "plt.figure()\n",
    "lw = 2\n",
    "plt.plot(fpr, tpr, color='darkorange',\n",
    "         lw=lw, label='ROC curve (area = %0.2f)' % roc_auc_score(y_test, y_pred))\n",
    "plt.plot([0, 1], [0, 1], color='navy', lw=lw, linestyle='--')\n",
    "plt.xlim([0.0, 1.0])\n",
    "plt.ylim([0.0, 1.05])\n",
    "plt.xlabel('False Positive Rate')\n",
    "plt.ylabel('True Positive Rate')\n",
    "plt.title('Receiver operating characteristic example')\n",
    "plt.legend(loc=\"lower right\")\n",
    "plt.show()"
   ]
  },
  {
   "cell_type": "code",
   "execution_count": null,
   "metadata": {
    "collapsed": true
   },
   "outputs": [],
   "source": [
    "plt.figure()\n",
    "plt.title(\"One informative feature, one cluster per class\", fontsize='small')\n",
    "X1, Y1 = make_classification(n_features=2, n_redundant=0, n_informative=1,\n",
    "                             n_clusters_per_class=1)\n",
    "plt.scatter(X1[:, 0], X1[:, 1], marker='o', c=Y1)\n",
    "plt.show()"
   ]
  },
  {
   "cell_type": "code",
   "execution_count": null,
   "metadata": {
    "collapsed": true
   },
   "outputs": [],
   "source": [
    "%%R\n",
    "library(ggplot2)\n",
    "\n",
    "ggplot(df) +\n",
    "  geom_bar(aes(Sex), stat = \"bin\") + \n",
    "  geom_bar(aes(Sex, fill = factor(Survived)), stat = \"bin\", position = \"dodge\") +\n",
    "  scale_fill_manual(values=c(\"#DD3333\", \"#33CC66\", \"#eeee00\"))"
   ]
  },
  {
   "cell_type": "markdown",
   "metadata": {},
   "source": [
    "# Feature selection through RFE and Randomized Lasso"
   ]
  },
  {
   "cell_type": "code",
   "execution_count": 1197,
   "metadata": {
    "collapsed": false
   },
   "outputs": [
    {
     "name": "stdout",
     "output_type": "stream",
     "text": [
      "Index(['disorientation_after', 'headache_after', 'abdominal_after',\n",
      "       'diarrhea_score_after', 'hemorrhage_after'],\n",
      "      dtype='object')\n",
      "\n",
      "Randomized Lasso \n",
      "\n",
      "Features sorted by their score:\n",
      "[(1.0, 'quarantine'), (1.0, 'evd_ct'), (1.0, 'disorientation_after'), (1.0, 'diarrhea_score_after'), (1.0, 'days_admitted'), (1.0, 'conjunctivitis_after'), (1.0, 'age'), (0.98999999999999999, 'referral_time'), (0.98499999999999999, 'abdominal_after'), (0.97999999999999998, 'myalgia_after'), (0.97499999999999998, 'hepatomegaly_after'), (0.96999999999999997, 'dehydration_after'), (0.95999999999999996, 'asthenia_after'), (0.95499999999999996, 'edema_after'), (0.94999999999999996, 'dyspnea_after'), (0.93500000000000005, 'malaria'), (0.93500000000000005, 'jaundice_after'), (0.92000000000000004, 'headache_after'), (0.91500000000000004, 'hiccups_after'), (0.91000000000000003, 'gyne_hemorrhage_after'), (0.91000000000000003, 'date_admis'), (0.90500000000000003, 'rash_after'), (0.90500000000000003, 'orl_hemorrhage_after'), (0.90000000000000002, 'anorexia_after'), (0.89500000000000002, 'dysphagia_after'), (0.89000000000000001, 'vomiting_after'), (0.88500000000000001, 'hematochezia_after'), (0.88, 'hematuria_after'), (0.88, 'anuria_after'), (0.82999999999999996, 'sex'), (0.81999999999999995, 'hemoptysis_after'), (0.80500000000000005, 'hemorrhage_after'), (0.76500000000000001, 'splenomegaly_after'), (0.68999999999999995, 'num_hemorrhage_sites_after')]\n"
     ]
    }
   ],
   "source": [
    "#rank all features, i.e continue the elimination until the last 3\n",
    "rfe = RFE(model, 5) #recursive feature elimination, \n",
    "rfe = rfe.fit(X, ytrue)\n",
    "# summarize the selection of the attributes\n",
    "print(headers[rfe.support_ == True])\n",
    "#print(rfe.support_)\n",
    "#print(rfe.ranking_)\n",
    "\n",
    "print('\\nRandomized Lasso \\n')\n",
    "rlasso = RandomizedLasso(alpha=0.0001)\n",
    "rlasso.fit(X, ytrue)\n",
    "print(\"Features sorted by their score:\")\n",
    "print(sorted(zip(map(lambda x: round(x, 4), rlasso.scores_), \n",
    "                 headers), reverse=True))\n",
    "\n"
   ]
  },
  {
   "cell_type": "markdown",
   "metadata": {},
   "source": [
    "# Feature selection through random forest"
   ]
  },
  {
   "cell_type": "code",
   "execution_count": 1198,
   "metadata": {
    "collapsed": false
   },
   "outputs": [
    {
     "name": "stdout",
     "output_type": "stream",
     "text": [
      "Feature ranking:\n",
      "1. feature 5 days_admitted (0.163869)\n",
      "2. feature 10 disorientation_after (0.134412)\n",
      "3. feature 0 evd_ct (0.093214)\n",
      "4. feature 3 age (0.069157)\n",
      "5. feature 21 hemorrhage_after (0.057866)\n",
      "6. feature 19 diarrhea_score_after (0.038068)\n",
      "7. feature 11 headache_after (0.037350)\n",
      "8. feature 6 referral_time (0.032501)\n",
      "9. feature 7 date_admis (0.028990)\n",
      "10. feature 23 conjunctivitis_after (0.025785)\n",
      "11. feature 17 abdominal_after (0.023530)\n",
      "12. feature 29 dehydration_after (0.023320)\n",
      "13. feature 28 num_hemorrhage_sites_after (0.022769)\n",
      "14. feature 4 quarantine (0.022302)\n",
      "15. feature 2 sex (0.021451)\n",
      "16. feature 18 anorexia_after (0.020881)\n",
      "17. feature 22 orl_hemorrhage_after (0.020460)\n",
      "18. feature 15 dysphagia_after (0.019693)\n",
      "19. feature 12 hiccups_after (0.018637)\n",
      "20. feature 1 malaria (0.016861)\n",
      "21. feature 9 dyspnea_after (0.014310)\n",
      "22. feature 8 anuria_after (0.012704)\n",
      "23. feature 20 vomiting_after (0.012131)\n",
      "24. feature 32 edema_after (0.011329)\n",
      "25. feature 30 hepatomegaly_after (0.011264)\n",
      "26. feature 25 hematochezia_after (0.011040)\n",
      "27. feature 13 myalgia_after (0.007445)\n",
      "28. feature 31 jaundice_after (0.006512)\n",
      "29. feature 14 rash_after (0.005701)\n",
      "30. feature 24 hemoptysis_after (0.004727)\n",
      "31. feature 16 asthenia_after (0.004284)\n",
      "32. feature 33 splenomegaly_after (0.003242)\n",
      "33. feature 26 hematuria_after (0.002201)\n",
      "34. feature 27 gyne_hemorrhage_after (0.001994)\n"
     ]
    },
    {
     "data": {
      "image/png": "[encoded data removed]",
      "text/plain": [
       "<matplotlib.figure.Figure at 0x115b3beb8>"
      ]
     },
     "metadata": {},
     "output_type": "display_data"
    }
   ],
   "source": [
    "forest = ExtraTreesClassifier(n_estimators=250, #The number of trees in the forest\n",
    "                              random_state=1)   #max_features: If “auto”, then max_features=sqrt(n_features).\n",
    "\n",
    "forest.fit(X, ytrue)\n",
    "importances = forest.feature_importances_\n",
    "std = np.std([tree.feature_importances_ for tree in forest.estimators_],\n",
    "             axis=0)\n",
    "indices = np.argsort(importances)[::-1]\n",
    "\n",
    "# Print the feature ranking\n",
    "print(\"Feature ranking:\")\n",
    "\n",
    "for f in range(X.shape[1]):\n",
    "    print(\"%d. feature %d %s (%f)\" % (f + 1, indices[f], headers[indices[f]], importances[indices[f]]))\n",
    "\n",
    "# Plot the feature importances of the forest\n",
    "plt.figure()\n",
    "plt.title(\"Feature importances\")\n",
    "plt.bar(range(X.shape[1]), importances[indices],\n",
    "       color=\"r\", yerr=std[indices], align=\"center\")\n",
    "plt.xticks(range(X.shape[1]), indices)\n",
    "plt.xlim([-1, X.shape[1]])\n",
    "plt.show()"
   ]
  },
  {
   "cell_type": "markdown",
   "metadata": {},
   "source": [
    "# Other linear models"
   ]
  },
  {
   "cell_type": "code",
   "execution_count": 1245,
   "metadata": {
    "collapsed": false
   },
   "outputs": [
    {
     "name": "stdout",
     "output_type": "stream",
     "text": [
      "Best alpha:  0.5\n",
      "Ridge 4Fold CV Accuracy: 0.83 (+/- 0.15)\n",
      "Lasso:  0.578721966974\n",
      "Lasso model:  [-0.02409876  0.09985681  0.02141159  0.00398069  0.13491168 -0.04486198\n",
      " -0.02802766 -0.00296    -0.01380808  0.07033387  0.28785321  0.07493042\n",
      "  0.10108869 -0.14797152  0.09638598 -0.03798134 -0.28094614  0.05499854\n",
      " -0.04127287 -0.08834811 -0.05667383  0.05846907  0.00496281 -0.009185\n",
      "  0.06681236 -0.05615854  0.02402541  0.01791827  0.10685995  0.02548182\n",
      " -0.07640686 -0.         -0.09917132  0.07892607  0.18715794  0.          0.\n",
      " -0.35655217]\n",
      "svm score:  0.888888888889\n",
      "[[12  2]\n",
      " [ 2 20]]              precision    recall  f1-score   support\n",
      "\n",
      "          0       0.86      0.86      0.86        14\n",
      "          1       0.91      0.91      0.91        22\n",
      "\n",
      "avg / total       0.89      0.89      0.89        36\n",
      "\n"
     ]
    }
   ],
   "source": [
    "import math\n",
    "from sklearn.linear_model import RidgeCV\n",
    "\n",
    "\n",
    "bestalpha=0\n",
    "lastBestscore= math.inf\n",
    "for k in range(5000):\n",
    "    ridge = RidgeClassifier(alpha=k*.1)\n",
    "    ridge.fit(X_train, y_train)\n",
    "    y_pred = ridge.predict(X_test)\n",
    "    if k > 1 and RMSE < np.sqrt(metrics.mean_squared_error(y_test, y_pred)): #exit when RMSE don't decrease\n",
    "        break\n",
    "    RMSE= np.sqrt(metrics.mean_squared_error(y_test, y_pred))\n",
    "    if RMSE < lastBestscore:\n",
    "        lastBestscore= RMSE\n",
    "        #print('k: ',k, \"Ridge: \",ridge.score(X_test,y_test), 'RMSE: ', RMSE)\n",
    "        bestalpha= k*.1\n",
    "\n",
    "print('Best alpha: ',bestalpha)\n",
    "\n",
    "#Another Ridge Classifier, this time with \n",
    "\n",
    "#ridgecv = LogisticRegression(C=0.1, dual=False, penalty=\"l2\")\n",
    "ridgecv = RidgeClassifier(alpha=bestalpha)\n",
    "scores = cross_val_score(ridgecv, X, ytrue, scoring='accuracy', cv=10)\n",
    "print(\"Ridge 4Fold CV Accuracy: %0.2f (+/- %0.2f)\" % (scores.mean(), scores.std() * 2))\n",
    "\n",
    "\n",
    "######################################## CLASSS WEIGHT TO WORK ON\n",
    "# reg = RidgeClassifier(class_weight={1: 0.001})\n",
    "\n",
    "#############\n",
    " \n",
    "lasso = Lasso(alpha=0.0005)\n",
    "lasso.fit(X, ytrue)\n",
    "print(\"Lasso: \",lasso.score(X, ytrue))\n",
    "print(\"Lasso model: \", lasso.coef_)\n",
    "\n",
    "\n",
    "#svc = svm.SVC(kernel='linear') #SVM overfits easily with few data and lots of features\n",
    "svc= LinearSVC(C=0.01,tol=1e-05)\n",
    "svc.fit(X_train, y_train)\n",
    "print('svm score: ', svc.score(X_test,y_test))\n",
    "print(confusion_matrix(y_test,svc.predict(X_test)),classification_report(y_test,svc.predict(X_test)))\n",
    " "
   ]
  },
  {
   "cell_type": "markdown",
   "metadata": {},
   "source": [
    "# Toy Neural net"
   ]
  },
  {
   "cell_type": "code",
   "execution_count": 1139,
   "metadata": {
    "collapsed": false
   },
   "outputs": [
    {
     "name": "stdout",
     "output_type": "stream",
     "text": [
      "error: 8.573388203017832e-05\n",
      "[[28 14]\n",
      " [13 53]]\n",
      "             precision    recall  f1-score   support\n",
      "\n",
      "          0       0.68      0.67      0.67        42\n",
      "          1       0.79      0.80      0.80        66\n",
      "\n",
      "avg / total       0.75      0.75      0.75       108\n",
      "\n"
     ]
    }
   ],
   "source": [
    "# http://www.kdnuggets.com/2016/10/beginners-guide-neural-networks-python-scikit-learn.html/2\n",
    "from sklearn.model_selection import train_test_split\n",
    "from sklearn.neural_network import MLPClassifier\n",
    "from sklearn.metrics import classification_report,confusion_matrix\n",
    "X_train, X_test, y_train, y_test = train_test_split(X, ytrue, test_size=0.75, random_state=1)\n",
    "scaler = StandardScaler()\n",
    "# Fit only to the training data\n",
    "scaler.fit(X_train)\n",
    "# Now apply the transformations to the data:\n",
    "X_train = scaler.transform(X_train)\n",
    "X_test = scaler.transform(X_test)\n",
    "mlp = MLPClassifier(hidden_layer_sizes=(300,300,300))\n",
    "mlp.fit(X_train,y_train)\n",
    "predictions = mlp.predict(X_test)\n",
    "print('error:',np.mean(predictions - y_test)**2)\n",
    "print(confusion_matrix(y_test,predictions))\n",
    "print(classification_report(y_test,predictions))"
   ]
  },
  {
   "cell_type": "code",
   "execution_count": 1012,
   "metadata": {
    "collapsed": false
   },
   "outputs": [
    {
     "name": "stdout",
     "output_type": "stream",
     "text": [
      "1\n"
     ]
    }
   ],
   "source": [
    "print(int(.5<0.88))"
   ]
  },
  {
   "cell_type": "code",
   "execution_count": null,
   "metadata": {
    "collapsed": true
   },
   "outputs": [],
   "source": []
  }
 ],
 "metadata": {
  "anaconda-cloud": {},
  "kernelspec": {
   "display_name": "Python [default]",
   "language": "python",
   "name": "python3"
  },
  "language_info": {
   "codemirror_mode": {
    "name": "ipython",
    "version": 3
   },
   "file_extension": ".py",
   "mimetype": "text/x-python",
   "name": "python",
   "nbconvert_exporter": "python",
   "pygments_lexer": "ipython3",
   "version": "3.5.2"
  }
 },
 "nbformat": 4,
 "nbformat_minor": 1
}
